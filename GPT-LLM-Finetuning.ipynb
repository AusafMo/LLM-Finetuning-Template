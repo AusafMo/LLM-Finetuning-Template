{
  "nbformat": 4,
  "nbformat_minor": 0,
  "metadata": {
    "colab": {
      "provenance": [],
      "authorship_tag": "ABX9TyNRYy/Ko2+owGzNfbQmSfF+",
      "include_colab_link": true
    },
    "kernelspec": {
      "name": "python3",
      "display_name": "Python 3"
    },
    "language_info": {
      "name": "python"
    }
  },
  "cells": [
    {
      "cell_type": "markdown",
      "metadata": {
        "id": "view-in-github",
        "colab_type": "text"
      },
      "source": [
        "<a href=\"https://colab.research.google.com/github/AusafMo/LLM-Finetuning-Template/blob/main/GPT-LLM-Finetuning.ipynb\" target=\"_parent\"><img src=\"https://colab.research.google.com/assets/colab-badge.svg\" alt=\"Open In Colab\"/></a>"
      ]
    },
    {
      "cell_type": "code",
      "source": [
        "!pip install openai"
      ],
      "metadata": {
        "id": "hJUc2s6jUe-L"
      },
      "execution_count": null,
      "outputs": []
    },
    {
      "cell_type": "code",
      "source": [
        "import openai\n",
        "import json\n",
        "import requests\n",
        "\n",
        "# Load your OpenAI API key\n",
        "openai.api_key = 'OpenAI-Keys'\n"
      ],
      "metadata": {
        "id": "lHI7zJEDdVDq"
      },
      "execution_count": null,
      "outputs": []
    },
    {
      "cell_type": "code",
      "source": [
        "upload_response = openai.File.create(\n",
        "  file=open('/content/conversation_prepared.jsonl', \"rb\"),\n",
        "  purpose='fine-tune'\n",
        ")\n",
        "file_id = upload_response.id\n",
        "upload_response"
      ],
      "metadata": {
        "colab": {
          "base_uri": "https://localhost:8080/"
        },
        "id": "MIemVs2yqkxm",
        "outputId": "a35a39aa-b47c-4bcc-c279-1e4d411733cb"
      },
      "execution_count": null,
      "outputs": [
        {
          "output_type": "execute_result",
          "data": {
            "text/plain": [
              "<File file id=file-itrMcH25bRoTxpTYxGlRUK9h at 0x7f5017a998a0> JSON: {\n",
              "  \"bytes\": 136835,\n",
              "  \"created_at\": 1684527870,\n",
              "  \"filename\": \"file\",\n",
              "  \"id\": \"file-itrMcH25bRoTxpTYxGlRUK9h\",\n",
              "  \"object\": \"file\",\n",
              "  \"purpose\": \"fine-tune\",\n",
              "  \"status\": \"uploaded\",\n",
              "  \"status_details\": null\n",
              "}"
            ]
          },
          "metadata": {},
          "execution_count": 7
        }
      ]
    },
    {
      "cell_type": "code",
      "source": [
        "fine_tune_response = openai.FineTune.create(training_file = file_id, model = 'ada')\n",
        "fine_tune_response"
      ],
      "metadata": {
        "colab": {
          "base_uri": "https://localhost:8080/"
        },
        "id": "M19doKsbr29u",
        "outputId": "eb6d52d2-fa8a-4b18-8939-22f62b53ee60"
      },
      "execution_count": null,
      "outputs": [
        {
          "output_type": "execute_result",
          "data": {
            "text/plain": [
              "<FineTune fine-tune id=ft-v6r1OFI6b6pWEAk1uT4tsNio at 0x7f4ffebe07c0> JSON: {\n",
              "  \"created_at\": 1684529057,\n",
              "  \"events\": [\n",
              "    {\n",
              "      \"created_at\": 1684529057,\n",
              "      \"level\": \"info\",\n",
              "      \"message\": \"Created fine-tune: ft-v6r1OFI6b6pWEAk1uT4tsNio\",\n",
              "      \"object\": \"fine-tune-event\"\n",
              "    }\n",
              "  ],\n",
              "  \"fine_tuned_model\": null,\n",
              "  \"hyperparams\": {\n",
              "    \"batch_size\": null,\n",
              "    \"learning_rate_multiplier\": null,\n",
              "    \"n_epochs\": 4,\n",
              "    \"prompt_loss_weight\": 0.01\n",
              "  },\n",
              "  \"id\": \"ft-v6r1OFI6b6pWEAk1uT4tsNio\",\n",
              "  \"model\": \"ada\",\n",
              "  \"object\": \"fine-tune\",\n",
              "  \"organization_id\": \"org-wcDWgnhkHwQrg3guwxbS4La9\",\n",
              "  \"result_files\": [],\n",
              "  \"status\": \"pending\",\n",
              "  \"training_files\": [\n",
              "    {\n",
              "      \"bytes\": 136835,\n",
              "      \"created_at\": 1684527870,\n",
              "      \"filename\": \"file\",\n",
              "      \"id\": \"file-itrMcH25bRoTxpTYxGlRUK9h\",\n",
              "      \"object\": \"file\",\n",
              "      \"purpose\": \"fine-tune\",\n",
              "      \"status\": \"processed\",\n",
              "      \"status_details\": null\n",
              "    }\n",
              "  ],\n",
              "  \"updated_at\": 1684529057,\n",
              "  \"validation_files\": []\n",
              "}"
            ]
          },
          "metadata": {},
          "execution_count": 52
        }
      ]
    },
    {
      "cell_type": "markdown",
      "source": [
        "## Prompt"
      ],
      "metadata": {
        "id": "We_JzkLpveev"
      }
    },
    {
      "cell_type": "code",
      "source": [
        "def fun(prompt = \"hi\"):\n",
        "  response = openai.Completion.create(\n",
        "    model=\"ada:ft-personal-2023-05-19-19-52-20\",\n",
        "    prompt= prompt,\n",
        "    temperature=0.3,\n",
        "    max_tokens=188,\n",
        "    top_p=1,\n",
        "    frequency_penalty=0.78,\n",
        "    presence_penalty=0.78,\n",
        "    stop=[\"'.'\"]\n",
        "  )\n",
        "  for choice in response['choices']:\n",
        "      generated_text = choice['text']\n",
        "\n",
        "  return generated_text.strip().split('\\n')[0]\n",
        "\n",
        "print(fun('how do you like in bay area though?'))"
      ],
      "metadata": {
        "colab": {
          "base_uri": "https://localhost:8080/"
        },
        "id": "7zmBFu20vf6h",
        "outputId": "e6cb078f-a052-430e-c4c5-69a43867d5a2"
      },
      "execution_count": null,
      "outputs": [
        {
          "output_type": "stream",
          "name": "stdout",
          "text": [
            "I love it here in California. It's a beautiful place to live!\n"
          ]
        }
      ]
    },
    {
      "cell_type": "code",
      "source": [],
      "metadata": {
        "id": "_NjmcHrBv8cH"
      },
      "execution_count": null,
      "outputs": []
    }
  ]
}